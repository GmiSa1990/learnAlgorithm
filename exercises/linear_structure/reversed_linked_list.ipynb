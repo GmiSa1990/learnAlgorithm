{
 "cells": [
  {
   "cell_type": "code",
   "execution_count": null,
   "metadata": {},
   "outputs": [],
   "source": []
  },
  {
   "cell_type": "code",
   "execution_count": null,
   "metadata": {},
   "outputs": [],
   "source": [
    "def sort1(link_list, head_addr, num):\n",
    "    head_add, _, _ = list(zip(*link_list))\n",
    "    res = []\n",
    "    for i in range(num):\n",
    "        index = head_add.index(head_addr)\n",
    "        res.append(link_list[index])\n",
    "        head_addr = link_list[index][2]\n",
    "    return res\n",
    "\n",
    "head_addr, num, rev_num = list(map(int,input().split(' ')))\n",
    "link_list = []\n",
    "for i in range(num):\n",
    "    link_list(list(map(int,input().split(' '))))\n",
    "\n",
    "sort_list = sort1(link_list, head_addr, num)\n",
    "\n",
    "for i in range(num//rev_num):\n",
    "    for j in sort_list[i*4:]\n",
    "        print(' '.join(map(str, sort_list[(i+1)*4-j-1])))\n"
   ]
  }
 ],
 "metadata": {
  "kernelspec": {
   "display_name": "Python 3",
   "language": "python",
   "name": "python3"
  },
  "language_info": {
   "codemirror_mode": {
    "name": "ipython",
    "version": 3
   },
   "file_extension": ".py",
   "mimetype": "text/x-python",
   "name": "python",
   "nbconvert_exporter": "python",
   "pygments_lexer": "ipython3",
   "version": "3.6.5"
  }
 },
 "nbformat": 4,
 "nbformat_minor": 2
}
