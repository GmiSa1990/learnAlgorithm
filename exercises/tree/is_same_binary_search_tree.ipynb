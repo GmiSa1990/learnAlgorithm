{
 "cells": [
  {
   "cell_type": "markdown",
   "metadata": {},
   "source": [
    "给定一个插入序列就可以唯一确定一棵二叉搜索树。然而，一棵给定的二叉搜索树却可以由多种不同的插入序列得到。例如分别按照序列{2, 1, 3}和{2, 3, 1}插入初始为空的二叉搜索树，都得到一样的结果。于是对于输入的各种插入序列，你需要判断它们是否能生成一样的二叉搜索树。\n",
    "\n",
    "输入格式:\n",
    "输入包含若干组测试数据。每组数据的第1行给出两个正整数N (≤10)和L，分别是每个序列插入元素的个数和需要检查的序列个数。第2行给出N个以空格分隔的正整数，作为初始插入序列。最后L行，每行给出N个插入的元素，属于L个需要检查的序列。\n",
    "\n",
    "简单起见，我们保证每个插入序列都是1到N的一个排列。当读到N为0时，标志输入结束，这组数据不要处理。\n",
    "\n",
    "输出格式:\n",
    "对每一组需要检查的序列，如果其生成的二叉搜索树跟对应的初始序列生成的一样，输出“Yes”，否则输出“No”。\n",
    "\n",
    "输入样例:\n",
    "4 2\n",
    "\n",
    "3 1 4 2\n",
    "\n",
    "3 4 1 2\n",
    "\n",
    "3 2 4 1\n",
    "\n",
    "2 1\n",
    "\n",
    "2 1\n",
    "\n",
    "1 2\n",
    "\n",
    "0\n",
    "\n",
    "输出样例:\n",
    "\n",
    "Yes\n",
    "\n",
    "No\n",
    "\n",
    "No"
   ]
  },
  {
   "cell_type": "code",
   "execution_count": 1,
   "metadata": {},
   "outputs": [
    {
     "name": "stdout",
     "output_type": "stream",
     "text": [
      "2 1\n",
      "2 1\n",
      "1 2\n",
      "0\n",
      "No\n"
     ]
    }
   ],
   "source": [
    "def is_same(x, y):\n",
    "    if len(x) != len(y):\n",
    "        return 'No'\n",
    "    elif (not len(x)) and (not len(y)):\n",
    "        return 'Yes'\n",
    "    if x[0] != y[0]:\n",
    "        return 'No'\n",
    "    else:\n",
    "        x1 = [i for i in x if i < x[0]]\n",
    "        y1 = [i for i in y if i < y[0]]\n",
    "        res1 = is_same(x1, y1)\n",
    "        x2 = [i for i in x if i > x[0]]\n",
    "        y2 = [i for i in y if i > y[0]]\n",
    "        res2 = is_same(x2, y2)  \n",
    "    if res1 == 'Yes' and res2 == 'Yes':\n",
    "        res = 'Yes'\n",
    "    else:\n",
    "        res = 'No'\n",
    "    return res\n",
    "res = []\n",
    "while True:\n",
    "    info1 = list(map(int,input().split(' ')))\n",
    "    if info1[0] == 0:\n",
    "        break\n",
    "    elem_num, inst_num = info1\n",
    "    tree1 = list(map(int,input().split(' ')))\n",
    "    for i in range(inst_num):\n",
    "        tree2 = list(map(int,input().split(' ')))\n",
    "        res.append(is_same(tree1, tree2))\n",
    "\n",
    "for i in res:\n",
    "    print(i)"
   ]
  }
 ],
 "metadata": {
  "kernelspec": {
   "display_name": "Python 3",
   "language": "python",
   "name": "python3"
  },
  "language_info": {
   "codemirror_mode": {
    "name": "ipython",
    "version": 3
   },
   "file_extension": ".py",
   "mimetype": "text/x-python",
   "name": "python",
   "nbconvert_exporter": "python",
   "pygments_lexer": "ipython3",
   "version": "3.6.5"
  }
 },
 "nbformat": 4,
 "nbformat_minor": 2
}
