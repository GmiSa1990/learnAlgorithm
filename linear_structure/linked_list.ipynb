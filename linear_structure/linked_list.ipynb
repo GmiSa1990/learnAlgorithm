{
 "cells": [
  {
   "cell_type": "markdown",
   "metadata": {},
   "source": [
    "# Singly Linked List\n",
    "\n",
    "[reference link](https://github.com/TheAlgorithms/Python/blob/master/data_structures/linked_list/singly_linked_list.py)"
   ]
  },
  {
   "cell_type": "code",
   "execution_count": null,
   "metadata": {},
   "outputs": [],
   "source": [
    "class Node(object):\n",
    "    def __init__(self, data):\n",
    "        self.data = data\n",
    "        self.next = None\n",
    "\n",
    "class SLL(object):\n",
    "    def __init__(self):\n",
    "        # head is initialized to None.\n",
    "        self.head = None\n",
    "    \n",
    "    def insert_tail(self, data):\n",
    "        if self.head is None:\n",
    "            self.insert_head(data)\n",
    "        else:\n",
    "            tmp = self.head\n",
    "            while tmp.next != None:\n",
    "                tmp = tmp.next\n",
    "            tmp.next = Node(data)\n",
    "    \n",
    "    def insert_head(self, data):\n",
    "        new_node = Node(data)\n",
    "        if self.head != None:\n",
    "            new_node.next = self.head\n",
    "        self.head = new_node\n",
    "    \n",
    "    def delete_tail(self):\n",
    "        if self.head is None:\n",
    "            return None\n",
    "        elif self.head.next is None:\n",
    "            tail = self.head\n",
    "            self.head = None\n",
    "            return tail\n",
    "        else:\n",
    "            tmp = self.head\n",
    "            while tmp.next.next != None:\n",
    "                tmp = tmp.next\n",
    "            tail = tmp.next\n",
    "            tmp.next = None\n",
    "            return tail\n",
    "    \n",
    "    def delete_head(self):\n",
    "        if self.head is None:\n",
    "            return None\n",
    "        elif self.head.next is None:\n",
    "            head = self.head\n",
    "            self.head = None\n",
    "            return head\n",
    "        else:\n",
    "            head = self.head\n",
    "            self.head = self.head.next\n",
    "            return head\n",
    "    \n",
    "    def print_list(self):\n",
    "        tmp = self.head\n",
    "        while tmp != None:\n",
    "            print(tmp.data)\n",
    "            tmp = tmp.next\n",
    "    \n",
    "    def reverse(self):\n",
    "        prev = None\n",
    "        current = self.head\n",
    "        while current != None:\n",
    "            next_node = current.next\n",
    "            current.next = prev\n",
    "            prev = current\n",
    "            current = next_node\n",
    "        self.head = prev\n",
    "    \n",
    "    def is_empty(self):\n",
    "        return self.head is None\n",
    "        "
   ]
  },
  {
   "cell_type": "markdown",
   "metadata": {},
   "source": [
    "## Python Operator: `is` vs `==`\n",
    "\n",
    "`==` is for *value equality*, use it when you would like to know if two objects have the same value.\n",
    "\n",
    "`is` is for *identity equality*, use it when you would like to know if they refer to the same object.\n",
    "\n",
    "you should **only use** `is` if you:\n",
    "\n",
    "- want to check if two objects are really the same object (not just the same \"value\").\n",
    "- want to compare a object with a python constant,such as: None, True, False, NotImplemented.\n",
    "\n"
   ]
  },
  {
   "cell_type": "code",
   "execution_count": 3,
   "metadata": {},
   "outputs": [
    {
     "name": "stdout",
     "output_type": "stream",
     "text": [
      "True\n",
      "True\n",
      "True\n",
      "False\n",
      "2463201498568\n",
      "2463201499016\n",
      "2463201498568\n",
      "False\n"
     ]
    }
   ],
   "source": [
    "x = list(range(10))\n",
    "y = list(range(10))\n",
    "z = x\n",
    "print(z == x)\n",
    "print(y == x)\n",
    "print(z is x)\n",
    "print(y is x)\n",
    "print(id(x))\n",
    "print(id(y))\n",
    "print(id(z))\n"
   ]
  }
 ],
 "metadata": {
  "kernelspec": {
   "display_name": "Python 3",
   "language": "python",
   "name": "python3"
  },
  "language_info": {
   "codemirror_mode": {
    "name": "ipython",
    "version": 3
   },
   "file_extension": ".py",
   "mimetype": "text/x-python",
   "name": "python",
   "nbconvert_exporter": "python",
   "pygments_lexer": "ipython3",
   "version": "3.7.3"
  }
 },
 "nbformat": 4,
 "nbformat_minor": 2
}
