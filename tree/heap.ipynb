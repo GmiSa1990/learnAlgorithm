{
 "cells": [
  {
   "cell_type": "markdown",
   "metadata": {},
   "source": [
    "# 最大堆\n"
   ]
  },
  {
   "cell_type": "code",
   "execution_count": null,
   "metadata": {},
   "outputs": [],
   "source": [
    "class maxHeap(object):\n",
    "    def __init__(self, maxSize):\n",
    "        self.data = []\n",
    "        self.size = 0\n",
    "        self.cap = maxSize\n",
    "        ## 哨兵，将其定义为大于堆中所有可能元素的值\n",
    "        self.data.append(32767)\n",
    "    \n",
    "    def isFull(self):\n",
    "        return self.size == self.cap\n",
    "    \n",
    "    def isEmpty(self):\n",
    "        return self.size == 0\n",
    "    \n",
    "    def insert(self, x):\n",
    "        if self.isFull():\n",
    "            return False\n",
    "        self.size += 1\n",
    "        self.data.append(x)\n",
    "        i = self.size\n",
    "        while self.data[i/2] < x:\n",
    "            self.data[i] = self.data[i/2]\n",
    "            i /= 2\n",
    "        self.data[i] = x\n",
    "        return True\n",
    "            \n",
    "    def deleteMax(self):\n",
    "        if self.isEmpty():\n",
    "            return False\n",
    "        self.size -= 1\n",
    "        maxElem = self.data[1]\n",
    "        x = self.data.pop(-1)\n",
    "        while \n",
    "        "
   ]
  },
  {
   "cell_type": "markdown",
   "metadata": {},
   "source": [
    "# 最小堆\n"
   ]
  },
  {
   "cell_type": "code",
   "execution_count": null,
   "metadata": {},
   "outputs": [],
   "source": []
  }
 ],
 "metadata": {
  "celltoolbar": "Raw Cell Format",
  "kernelspec": {
   "display_name": "Python 3",
   "language": "python",
   "name": "python3"
  },
  "language_info": {
   "codemirror_mode": {
    "name": "ipython",
    "version": 3
   },
   "file_extension": ".py",
   "mimetype": "text/x-python",
   "name": "python",
   "nbconvert_exporter": "python",
   "pygments_lexer": "ipython3",
   "version": "3.7.3"
  }
 },
 "nbformat": 4,
 "nbformat_minor": 2
}
