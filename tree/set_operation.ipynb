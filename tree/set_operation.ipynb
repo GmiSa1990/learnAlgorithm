{
 "cells": [
  {
   "cell_type": "markdown",
   "metadata": {},
   "source": [
    "# Python中的集合 --- `set`"
   ]
  },
  {
   "cell_type": "code",
   "execution_count": 5,
   "metadata": {},
   "outputs": [
    {
     "name": "stdout",
     "output_type": "stream",
     "text": [
      "{0, 1, 2, 3, 4, 5, 6}\n",
      "{4, 5, 6, 7, 8, 9}\n",
      "{4, 5, 6}\n",
      "{4, 5, 6}\n",
      "{0, 1, 2, 3, 4, 5, 6, 7, 8, 9}\n",
      "{0, 1, 2, 3, 4, 5, 6, 7, 8, 9}\n",
      "{0, 1, 2, 3}\n",
      "{0, 1, 2, 3}\n",
      "{8, 9, 7}\n",
      "{8, 9, 7}\n",
      "{0, 1, 2, 3, 7, 8, 9}\n",
      "{0, 1, 2, 3, 7, 8, 9}\n",
      "{0, 1, 2, 3, 4, 5, 6}\n",
      "{0, 1, 2, 3, 4, 5, 6, 15}\n",
      "{0, 1, 2, 3, 4, 5, 6, 15, 17}\n",
      "{0, 1, 2, 3, 4, 5, 6, 17}\n"
     ]
    }
   ],
   "source": [
    "x = set(range(7))\n",
    "y = set(range(4,10))\n",
    "print(x)\n",
    "print(y)\n",
    "\n",
    "# 交集\n",
    "print(x & y)\n",
    "print(x.intersection(y))\n",
    "\n",
    "# 并集\n",
    "print(x | y)\n",
    "print(x.union(y))\n",
    "\n",
    "# 差集\n",
    "print(x - y)\n",
    "print(x.difference(y))\n",
    "print(y - x)\n",
    "print(y.difference(x))\n",
    "\n",
    "print(x.symmetric_difference(y))\n",
    "print((x-y) | (y-x))\n",
    "\n",
    "# 添加元素\n",
    "x.add(4)\n",
    "print(x)\n",
    "x.add(15)\n",
    "print(x)\n",
    "x.update([4,6,17])\n",
    "print(x)\n",
    "\n",
    "# 删除元素\n",
    "x.remove(15)\n",
    "print(x)\n",
    "\n",
    "# 查找元素\n",
    "print(5 in x)"
   ]
  },
  {
   "cell_type": "markdown",
   "metadata": {},
   "source": [
    "# 基于C的并查集\n",
    "\n",
    "`集合`存储为`树`结构，树用`双亲表示法`存储在`数组`中。\n"
   ]
  },
  {
   "cell_type": "code",
   "execution_count": null,
   "metadata": {},
   "outputs": [],
   "source": [
    "To Be Finished."
   ]
  }
 ],
 "metadata": {
  "kernelspec": {
   "display_name": "Python 3",
   "language": "python",
   "name": "python3"
  },
  "language_info": {
   "codemirror_mode": {
    "name": "ipython",
    "version": 3
   },
   "file_extension": ".py",
   "mimetype": "text/x-python",
   "name": "python",
   "nbconvert_exporter": "python",
   "pygments_lexer": "ipython3",
   "version": "3.6.5"
  }
 },
 "nbformat": 4,
 "nbformat_minor": 2
}
