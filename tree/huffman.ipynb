{
 "cells": [
  {
   "cell_type": "markdown",
   "metadata": {},
   "source": [
    "\n",
    "带权路径长度（WPL）：设二叉树有n个叶子节点，每个叶子节点带有权值w~k~,从根节点到每个叶子节点的长度为l~k~，则每个叶子节点的带权路径长度为：WPL = \n",
    "    \n",
    "最优二叉树或霍夫曼树：WPL最小的二叉树。\n",
    "\n",
    "- 没有度为1的节点\n",
    "- n个叶子节点的哈夫曼树总共有2n-1个节点\n",
    "- 任意非叶节点左右子树互换后仍是哈夫曼树\n"
   ]
  },
  {
   "cell_type": "code",
   "execution_count": null,
   "metadata": {},
   "outputs": [],
   "source": []
  }
 ],
 "metadata": {
  "kernelspec": {
   "display_name": "Python 3",
   "language": "python",
   "name": "python3"
  },
  "language_info": {
   "codemirror_mode": {
    "name": "ipython",
    "version": 3
   },
   "file_extension": ".py",
   "mimetype": "text/x-python",
   "name": "python",
   "nbconvert_exporter": "python",
   "pygments_lexer": "ipython3",
   "version": "3.6.5"
  }
 },
 "nbformat": 4,
 "nbformat_minor": 2
}
