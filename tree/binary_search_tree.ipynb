{
 "cells": [
  {
   "cell_type": "markdown",
   "metadata": {},
   "source": [
    "# Binary Search Tree\n",
    "\n",
    "下面的`findMin`方法使用了两种递归写法来实现的，而`findMax`方法使用了迭代函数（循环）来实现的，这两个方法均可使用递归或循环来实现，这里的递归为尾递归。\n",
    "上面的程序是“尾递归”，所以下面改用循环来实现*查找*方法："
   ]
  },
  {
   "cell_type": "code",
   "execution_count": 1,
   "metadata": {},
   "outputs": [],
   "source": [
    "class Node(object):\n",
    "    def __init__(self, val):\n",
    "        self.val = val\n",
    "        self.left = None\n",
    "        self.right = None\n",
    "        \n",
    "class BinTree(object):\n",
    "    # x is the element to find.\n",
    "    # root is the root node of the binary search tree.\n",
    "    def find(self, root, x):\n",
    "        if not root:\n",
    "            return None\n",
    "        if x > root.val:\n",
    "            return self.find(root.right, x)\n",
    "        elif x < root.val:\n",
    "            return self.find(root.left, x)\n",
    "        else:\n",
    "            return root\n",
    "    def find2(self, root, x):\n",
    "        while root:\n",
    "            if x > root.val:\n",
    "                root = root.right\n",
    "            elif x < root.val:\n",
    "                root = root.left\n",
    "            else:\n",
    "                return root\n",
    "        return None\n",
    "    def findMin1(self, root):\n",
    "        if not root:\n",
    "            return None\n",
    "        x = self.findMin1(root.left)\n",
    "        if not x:\n",
    "            return root\n",
    "        return x\n",
    "    def findMin2(self, root):\n",
    "        if not root:\n",
    "            return None\n",
    "        elif not root.left:\n",
    "            return root\n",
    "        else:\n",
    "            self.findMin2(root.left)\n",
    "    def findMax(self, root):\n",
    "        if root:\n",
    "            while root.right:\n",
    "                root = root.right\n",
    "            return root\n",
    "        else:\n",
    "            return None\n",
    "    def insert(self, root, x):\n",
    "        if not root:\n",
    "            node = Node(x)\n",
    "            return node\n",
    "        elif x < root.val:\n",
    "            root.left = self.insert(root.left, x)\n",
    "        elif x > root.val:\n",
    "            root.right = self.insert(root.right, x)\n",
    "        return root\n",
    "    def delete(self, root, x):\n",
    "        if x < root.val:\n",
    "            root.left = self.delete(root.left, x)\n",
    "        elif x > root.val:\n",
    "            root.right = self.delete(root.right, x)\n",
    "        else:\n",
    "            if root.left and root.right:\n",
    "                node = self.findMin(root.right)\n",
    "                root.val = node.val\n",
    "                root.right = self.delete(root.right, node.val)\n",
    "            else:\n",
    "                if not root.left:\n",
    "                    return root.right\n",
    "                if not root.right:\n",
    "                    return root.left\n",
    "        return root"
   ]
  },
  {
   "cell_type": "markdown",
   "metadata": {},
   "source": [
    "# AVL\n",
    "- 平衡因子（Balance Factor)\n"
   ]
  },
  {
   "cell_type": "code",
   "execution_count": null,
   "metadata": {},
   "outputs": [],
   "source": []
  }
 ],
 "metadata": {
  "kernelspec": {
   "display_name": "Python 3",
   "language": "python",
   "name": "python3"
  },
  "language_info": {
   "codemirror_mode": {
    "name": "ipython",
    "version": 3
   },
   "file_extension": ".py",
   "mimetype": "text/x-python",
   "name": "python",
   "nbconvert_exporter": "python",
   "pygments_lexer": "ipython3",
   "version": "3.7.3"
  }
 },
 "nbformat": 4,
 "nbformat_minor": 2
}
